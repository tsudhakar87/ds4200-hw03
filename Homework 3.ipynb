{
 "cells": [
  {
   "cell_type": "markdown",
   "id": "8c784d9f-4081-4c1d-8f01-3e3fb38bec64",
   "metadata": {},
   "source": [
    "# DS4200 Homework 3\n",
    "\n",
    "Due: Friday Oct 25th @ 11:59 PM EST\n",
    "\n",
    "### Submission Instructions\n",
    "See the instruction for each question\n",
    "\n",
    "### Tips for success\n",
    "- Start early\n",
    "- Make use of Piazza\n",
    "- Make use of Office hour\n",
    "- Remember to use cells and headings to make the notebook easy to read (if a grader cannot find the answer to a problem, you will receive no points for it)\n",
    "- Under no circumstances may one student view or share their ungraded homework or quiz with another student [(see also)](http://www.northeastern.edu/osccr/academic-integrity), though you are welcome to **talk about** (not show each other) the problems."
   ]
  },
  {
   "cell_type": "markdown",
   "id": "99be97ba",
   "metadata": {},
   "source": [
    "## Part 1: Make your website (40 points)\n",
    "\n",
    "In this assignment, you will create a personal website using GitHub Pages. The website will introduce you or showcase something you’re passionate about—whether it's a hobby, academic interest, or a project. This assignment will help you become familiar with GitHub Pages, HTML, CSS, and how to deploy your website online.\n",
    "\n",
    "Requirements:\n",
    "\n",
    "+ Website Structure (20 points): Your website must consist of at least two pages. You are free to structure the site based on the content you wish to highlight, but the following sections are required:\n",
    "    + Home Page (index.html) (5 points):\n",
    "        + A clear heading (e.g., \"Welcome to My Website\" or \"About Me\").\n",
    "        + A short introduction about yourself or the topic you are interested in. (At least 200 words)\n",
    "        + At least one image (e.g., your photo or something that represents your interests).\n",
    "    + A second page (or more) that expands on the details. This could include (5 points):\n",
    "        + Descriptive text explaining the content (At least 200 words)\n",
    "        + At least one image (e.g., your photo or something that represents your interests).\n",
    "        + A list (ordered or unordered) about the topic\n",
    "        + A heading smaller than the one on the Home Page\n",
    "    + Contact Information: Include a contact section (which could be on any of your pages) with links to your email or social media accounts.(5 points)\n",
    "    + Navigation: Your site should have clear navigation between pages, either via a header menu or links, so visitors can move seamlessly between the Home and Additional Page(s). (5 points)\n",
    "+ Styling & Customization (15 points): Style your website using custom CSS. You must implement three different customizations beyond basic styling. These could include:\n",
    "    + Custom fonts or typography.\n",
    "    + Color scheme changes for backgrounds, text, or links.\n",
    "    + Custom margins, padding, or layout adjustments.\n",
    "+ Deployment (5 points): Once your website is complete, ensure it is published on GitHub Pages. Double-check that all links and pages work properly before submitting. "
   ]
  },
  {
   "cell_type": "markdown",
   "id": "5b0f0390-d3eb-4099-bd58-991346d2dc3b",
   "metadata": {},
   "source": [
    "## Submission\n",
    "\n",
    "Once you finish all the questions. Submit all the files related to the website to Gradescope (you can submit the repository directly to Gradescope). Also, please submit a Word document or a .txt file which contains:\n",
    "+ The hyper link of your website\n",
    "+ Decribe all the Styling & Customizations you have done in the Website."
   ]
  },
  {
   "cell_type": "markdown",
   "id": "d2f26355",
   "metadata": {},
   "source": [
    "## Part 2: D3 basic plots: \n",
    "\n",
    "In this question, we provide a CSV file with the Iris data. You need to make two plots by filling the given templete. When submit the homework, please submit both .html and .js. \n",
    "\n",
    "### Part 2.1 Scatter plot with groups (30 points)\n",
    "\n",
    "Use the Iris data, make a scatter plot to show the relationship between Petal Length and Petal Width. Use differnt color for each species and add a legend. \n",
    "\n",
    "Here is a general approch here: \n",
    "\n",
    "1. In the templete, we provide you a way to read the csv file. Once the data is read into d3. All the inputs are considered as strings. Therefore, the first thing we need to do is to convert the data to numeric type. The code is also provided.\n",
    "2. Define the dimensions and margins for the SVG and create the SVG canvas. (5 points)\n",
    "3. Set up scales for x and y axes. Set the range of X and Y to be the range of Petal Length and Petal Width. One example of the .min function is provided. Color scale is also provided. (5 points)\n",
    "5. Add scales to the plot. (5 points)\n",
    "6. Add circles for each data point (5 points)\n",
    "7. Add x-axis and y-axis labels. (5 points)\n",
    "8. Add legend. The legend has two parts. The circle and the text. First, we need to set up a layout for the legend, and then add circle and text to this legend. (5 points)\n",
    "\n",
    "### Part 2.2 Side-by-side boxplot (30 points)\n",
    "\n",
    "Use the Iris data, make a side by side boxplot to show the distribution of Petal Length across three species. To make things easier, we can ignore the outliers first. \n",
    "\n",
    "Here is a general approch here: \n",
    "\n",
    "1. First convert the strings into numeric data as we did in previous question. Setup the SVG canvas, scales and add the scales to the canvas and also add labels for the scales. (5 points) \n",
    "2. In order to make a boxplot, we need to calculate some basic metrics for the data. For each species, we need to calcualte the q1, median and q3. We first define a fundtion called `rollupFunction` to list all the variables we need to calculate. Follow the example for q1 to setup for median and q3, or any other values you need. (5 points)\n",
    "3. Add comments for the following two lines (add in the .js file) to explain what those codes are doing. (5 points) \n",
    "    \n",
    "    ```js\n",
    "    const quartilesBySpecies = d3.rollup(data, rollupFunction, d => d.species);\n",
    "\n",
    "    quartilesBySpecies.forEach((quartiles, species) => {\n",
    "        const x = xScale(species);\n",
    "        const boxWidth = xScale.bandwidth();\n",
    "    ```\n",
    "4. Inside the `.forEach` function, draw the boxes. There are three things you need to draw for the box plot: \n",
    "    - The vertical line in the middel from the q1-1.5 * IQR to q3+1.5 * IQR (5 points)\n",
    "    - The rectangular shape from q1 to q3. You can add some color (the same color as the background) to hide the vertical line in the back.  (5 points)\n",
    "    - The horizental line for median (5 points)\n"
   ]
  },
  {
   "cell_type": "markdown",
   "id": "d8648737",
   "metadata": {},
   "source": [
    "## Submission\n",
    "\n",
    "Once you finish all the questions. Submit the .html and .js for the D3 part to Gradescope. You can use different folder or zipped files to contains the codes. You can also change the file names if necessary. "
   ]
  }
 ],
 "metadata": {
  "kernelspec": {
   "display_name": "Python 3 (ipykernel)",
   "language": "python",
   "name": "python3"
  },
  "language_info": {
   "codemirror_mode": {
    "name": "ipython",
    "version": 3
   },
   "file_extension": ".py",
   "mimetype": "text/x-python",
   "name": "python",
   "nbconvert_exporter": "python",
   "pygments_lexer": "ipython3",
   "version": "3.11.7"
  }
 },
 "nbformat": 4,
 "nbformat_minor": 5
}
